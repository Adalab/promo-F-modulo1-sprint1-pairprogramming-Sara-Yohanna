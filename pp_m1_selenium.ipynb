{
 "cells": [
  {
   "cell_type": "code",
   "execution_count": 1,
   "metadata": {},
   "outputs": [],
   "source": [
    "# Importar librerías para tratamiento de datos\n",
    "# -----------------------------------------------------------------------\n",
    "import pandas as pd  # Pandas es una poderosa librería para manipulación y análisis de datos en Python.\n",
    "\n",
    "# Importar librerías para web scraping y manipulación de datos\n",
    "# -----------------------------------------------------------------------\n",
    "from bs4 import BeautifulSoup\n",
    "import requests\n",
    "\n",
    "# Importar librerías para automatización de navegadores web con Selenium\n",
    "# -----------------------------------------------------------------------\n",
    "from selenium import webdriver  # Selenium es una herramienta para automatizar la interacción con navegadores web.\n",
    "from webdriver_manager.chrome import ChromeDriverManager  # ChromeDriverManager gestiona la instalación del controlador de Chrome.\n",
    "from selenium.webdriver.common.keys import Keys  # Keys es útil para simular eventos de teclado en Selenium.\n",
    "from selenium.webdriver.support.ui import Select  # Select se utiliza para interactuar con elementos <select> en páginas web.\n",
    "\n",
    "# Importar librerías para pausar la ejecución\n",
    "# -----------------------------------------------------------------------\n",
    "from time import sleep  # Sleep se utiliza para pausar la ejecución del programa por un número de segundos.\n",
    "\n",
    "# Configuraciones\n",
    "# -----------------------------------------------------------------------\n",
    "pd.set_option('display.max_columns', None)  # Establece una opción de Pandas para mostrar todas las columnas de un DataFrame."
   ]
  },
  {
   "cell_type": "code",
   "execution_count": 10,
   "metadata": {},
   "outputs": [
    {
     "ename": "NoSuchElementException",
     "evalue": "Message: no such element: Unable to locate element: {\"method\":\"xpath\",\"selector\":\"//*[@id=\"app\"]/div[1]/main/div/div/div/div[3]/div/div[3]/div/div[3]/div[1]/strong\"}\n  (Session info: chrome=118.0.5993.117); For documentation on this error, please visit: https://www.selenium.dev/documentation/webdriver/troubleshooting/errors#no-such-element-exception\nStacktrace:\n0   chromedriver                        0x000000010b275e08 chromedriver + 5025288\n1   chromedriver                        0x000000010b26cc23 chromedriver + 4987939\n2   chromedriver                        0x000000010ae0ee67 chromedriver + 409191\n3   chromedriver                        0x000000010ae5e1b9 chromedriver + 733625\n4   chromedriver                        0x000000010ae5e371 chromedriver + 734065\n5   chromedriver                        0x000000010aea4194 chromedriver + 1020308\n6   chromedriver                        0x000000010ae8550d chromedriver + 894221\n7   chromedriver                        0x000000010aea1571 chromedriver + 1009009\n8   chromedriver                        0x000000010ae852b3 chromedriver + 893619\n9   chromedriver                        0x000000010ae4feb9 chromedriver + 675513\n10  chromedriver                        0x000000010ae510ee chromedriver + 680174\n11  chromedriver                        0x000000010b237819 chromedriver + 4769817\n12  chromedriver                        0x000000010b23c893 chromedriver + 4790419\n13  chromedriver                        0x000000010b24366e chromedriver + 4818542\n14  chromedriver                        0x000000010b23d5bd chromedriver + 4793789\n15  chromedriver                        0x000000010b20f98c chromedriver + 4606348\n16  chromedriver                        0x000000010b25bb78 chromedriver + 4918136\n17  chromedriver                        0x000000010b25bd30 chromedriver + 4918576\n18  chromedriver                        0x000000010b26c85e chromedriver + 4986974\n19  libsystem_pthread.dylib             0x00007ff8064084e1 _pthread_start + 125\n20  libsystem_pthread.dylib             0x00007ff806403f6b thread_start + 15\n",
     "output_type": "error",
     "traceback": [
      "\u001b[0;31m---------------------------------------------------------------------------\u001b[0m",
      "\u001b[0;31mNoSuchElementException\u001b[0m                    Traceback (most recent call last)",
      "\u001b[0;32m/var/folders/2t/rhwkz4g56b7dz56rcgcgt1qc0000gn/T/ipykernel_912/876075043.py\u001b[0m in \u001b[0;36m<module>\u001b[0;34m\u001b[0m\n\u001b[1;32m     39\u001b[0m \u001b[0mlibro\u001b[0m \u001b[0;34m[\u001b[0m\u001b[0;34m\"titulo\"\u001b[0m\u001b[0;34m]\u001b[0m\u001b[0;34m.\u001b[0m\u001b[0mappend\u001b[0m\u001b[0;34m(\u001b[0m\u001b[0mdriver\u001b[0m\u001b[0;34m.\u001b[0m\u001b[0mfind_element\u001b[0m\u001b[0;34m(\u001b[0m\u001b[0;34m\"xpath\"\u001b[0m\u001b[0;34m,\u001b[0m\u001b[0;34m'//*[@id=\"app\"]/div[1]/main/div/div/div/div[3]/div/div[2]/div/h1'\u001b[0m\u001b[0;34m)\u001b[0m\u001b[0;34m.\u001b[0m\u001b[0mtext\u001b[0m\u001b[0;34m)\u001b[0m\u001b[0;34m\u001b[0m\u001b[0;34m\u001b[0m\u001b[0m\n\u001b[1;32m     40\u001b[0m \u001b[0mlibro\u001b[0m \u001b[0;34m[\u001b[0m\u001b[0;34m\"autor\"\u001b[0m\u001b[0;34m]\u001b[0m\u001b[0;34m.\u001b[0m\u001b[0mappend\u001b[0m\u001b[0;34m(\u001b[0m\u001b[0mdriver\u001b[0m\u001b[0;34m.\u001b[0m\u001b[0mfind_element\u001b[0m\u001b[0;34m(\u001b[0m\u001b[0;34m\"xpath\"\u001b[0m\u001b[0;34m,\u001b[0m\u001b[0;34m'//*[@id=\"app\"]/div[1]/main/div/div/div/div[3]/div/div[2]/div/div[2]/div/a/span[1]'\u001b[0m\u001b[0;34m)\u001b[0m\u001b[0;34m.\u001b[0m\u001b[0mtext\u001b[0m\u001b[0;34m)\u001b[0m\u001b[0;34m\u001b[0m\u001b[0;34m\u001b[0m\u001b[0m\n\u001b[0;32m---> 41\u001b[0;31m \u001b[0mlibro\u001b[0m \u001b[0;34m[\u001b[0m\u001b[0;34m\"precio\"\u001b[0m\u001b[0;34m]\u001b[0m\u001b[0;34m.\u001b[0m\u001b[0mappend\u001b[0m\u001b[0;34m(\u001b[0m\u001b[0mdriver\u001b[0m\u001b[0;34m.\u001b[0m\u001b[0mfind_element\u001b[0m\u001b[0;34m(\u001b[0m\u001b[0;34m\"xpath\"\u001b[0m\u001b[0;34m,\u001b[0m\u001b[0;34m'//*[@id=\"app\"]/div[1]/main/div/div/div/div[3]/div/div[3]/div/div[3]/div[1]/strong'\u001b[0m\u001b[0;34m)\u001b[0m\u001b[0;34m.\u001b[0m\u001b[0mtext\u001b[0m\u001b[0;34m)\u001b[0m\u001b[0;34m\u001b[0m\u001b[0;34m\u001b[0m\u001b[0m\n\u001b[0m\u001b[1;32m     42\u001b[0m \u001b[0mlibro\u001b[0m \u001b[0;34m[\u001b[0m\u001b[0;34m\"editorial\"\u001b[0m\u001b[0;34m]\u001b[0m\u001b[0;34m.\u001b[0m\u001b[0mappend\u001b[0m\u001b[0;34m(\u001b[0m\u001b[0mdriver\u001b[0m\u001b[0;34m.\u001b[0m\u001b[0mfind_element\u001b[0m\u001b[0;34m(\u001b[0m\u001b[0;34m\"xpath\"\u001b[0m\u001b[0;34m,\u001b[0m\u001b[0;34m'//*[@id=\"app\"]/div[1]/main/div/div/div/div[3]/div/div[2]/div/div[4]/div[1]/span[1]'\u001b[0m\u001b[0;34m)\u001b[0m\u001b[0;34m.\u001b[0m\u001b[0mtext\u001b[0m\u001b[0;34m)\u001b[0m\u001b[0;34m\u001b[0m\u001b[0;34m\u001b[0m\u001b[0m\n\u001b[1;32m     43\u001b[0m \u001b[0mlibro\u001b[0m \u001b[0;34m[\u001b[0m\u001b[0;34m\"idioma\"\u001b[0m\u001b[0;34m]\u001b[0m\u001b[0;34m.\u001b[0m\u001b[0mappend\u001b[0m\u001b[0;34m(\u001b[0m\u001b[0mdriver\u001b[0m\u001b[0;34m.\u001b[0m\u001b[0mfind_element\u001b[0m\u001b[0;34m(\u001b[0m\u001b[0;34m\"xpath\"\u001b[0m\u001b[0;34m,\u001b[0m\u001b[0;34m'//*[@id=\"app\"]/div[1]/main/div/div/div/div[7]/div/div[2]/div/div[3]/div[2]/span'\u001b[0m\u001b[0;34m)\u001b[0m\u001b[0;34m.\u001b[0m\u001b[0mtext\u001b[0m\u001b[0;34m)\u001b[0m\u001b[0;34m\u001b[0m\u001b[0;34m\u001b[0m\u001b[0m\n",
      "\u001b[0;32m/opt/anaconda3/lib/python3.9/site-packages/selenium/webdriver/remote/webdriver.py\u001b[0m in \u001b[0;36mfind_element\u001b[0;34m(self, by, value)\u001b[0m\n\u001b[1;32m    736\u001b[0m             \u001b[0mvalue\u001b[0m \u001b[0;34m=\u001b[0m \u001b[0;34mf'[name=\"{value}\"]'\u001b[0m\u001b[0;34m\u001b[0m\u001b[0;34m\u001b[0m\u001b[0m\n\u001b[1;32m    737\u001b[0m \u001b[0;34m\u001b[0m\u001b[0m\n\u001b[0;32m--> 738\u001b[0;31m         \u001b[0;32mreturn\u001b[0m \u001b[0mself\u001b[0m\u001b[0;34m.\u001b[0m\u001b[0mexecute\u001b[0m\u001b[0;34m(\u001b[0m\u001b[0mCommand\u001b[0m\u001b[0;34m.\u001b[0m\u001b[0mFIND_ELEMENT\u001b[0m\u001b[0;34m,\u001b[0m \u001b[0;34m{\u001b[0m\u001b[0;34m\"using\"\u001b[0m\u001b[0;34m:\u001b[0m \u001b[0mby\u001b[0m\u001b[0;34m,\u001b[0m \u001b[0;34m\"value\"\u001b[0m\u001b[0;34m:\u001b[0m \u001b[0mvalue\u001b[0m\u001b[0;34m}\u001b[0m\u001b[0;34m)\u001b[0m\u001b[0;34m[\u001b[0m\u001b[0;34m\"value\"\u001b[0m\u001b[0;34m]\u001b[0m\u001b[0;34m\u001b[0m\u001b[0;34m\u001b[0m\u001b[0m\n\u001b[0m\u001b[1;32m    739\u001b[0m \u001b[0;34m\u001b[0m\u001b[0m\n\u001b[1;32m    740\u001b[0m     \u001b[0;32mdef\u001b[0m \u001b[0mfind_elements\u001b[0m\u001b[0;34m(\u001b[0m\u001b[0mself\u001b[0m\u001b[0;34m,\u001b[0m \u001b[0mby\u001b[0m\u001b[0;34m=\u001b[0m\u001b[0mBy\u001b[0m\u001b[0;34m.\u001b[0m\u001b[0mID\u001b[0m\u001b[0;34m,\u001b[0m \u001b[0mvalue\u001b[0m\u001b[0;34m:\u001b[0m \u001b[0mOptional\u001b[0m\u001b[0;34m[\u001b[0m\u001b[0mstr\u001b[0m\u001b[0;34m]\u001b[0m \u001b[0;34m=\u001b[0m \u001b[0;32mNone\u001b[0m\u001b[0;34m)\u001b[0m \u001b[0;34m->\u001b[0m \u001b[0mList\u001b[0m\u001b[0;34m[\u001b[0m\u001b[0mWebElement\u001b[0m\u001b[0;34m]\u001b[0m\u001b[0;34m:\u001b[0m\u001b[0;34m\u001b[0m\u001b[0;34m\u001b[0m\u001b[0m\n",
      "\u001b[0;32m/opt/anaconda3/lib/python3.9/site-packages/selenium/webdriver/remote/webdriver.py\u001b[0m in \u001b[0;36mexecute\u001b[0;34m(self, driver_command, params)\u001b[0m\n\u001b[1;32m    342\u001b[0m         \u001b[0mresponse\u001b[0m \u001b[0;34m=\u001b[0m \u001b[0mself\u001b[0m\u001b[0;34m.\u001b[0m\u001b[0mcommand_executor\u001b[0m\u001b[0;34m.\u001b[0m\u001b[0mexecute\u001b[0m\u001b[0;34m(\u001b[0m\u001b[0mdriver_command\u001b[0m\u001b[0;34m,\u001b[0m \u001b[0mparams\u001b[0m\u001b[0;34m)\u001b[0m\u001b[0;34m\u001b[0m\u001b[0;34m\u001b[0m\u001b[0m\n\u001b[1;32m    343\u001b[0m         \u001b[0;32mif\u001b[0m \u001b[0mresponse\u001b[0m\u001b[0;34m:\u001b[0m\u001b[0;34m\u001b[0m\u001b[0;34m\u001b[0m\u001b[0m\n\u001b[0;32m--> 344\u001b[0;31m             \u001b[0mself\u001b[0m\u001b[0;34m.\u001b[0m\u001b[0merror_handler\u001b[0m\u001b[0;34m.\u001b[0m\u001b[0mcheck_response\u001b[0m\u001b[0;34m(\u001b[0m\u001b[0mresponse\u001b[0m\u001b[0;34m)\u001b[0m\u001b[0;34m\u001b[0m\u001b[0;34m\u001b[0m\u001b[0m\n\u001b[0m\u001b[1;32m    345\u001b[0m             \u001b[0mresponse\u001b[0m\u001b[0;34m[\u001b[0m\u001b[0;34m\"value\"\u001b[0m\u001b[0;34m]\u001b[0m \u001b[0;34m=\u001b[0m \u001b[0mself\u001b[0m\u001b[0;34m.\u001b[0m\u001b[0m_unwrap_value\u001b[0m\u001b[0;34m(\u001b[0m\u001b[0mresponse\u001b[0m\u001b[0;34m.\u001b[0m\u001b[0mget\u001b[0m\u001b[0;34m(\u001b[0m\u001b[0;34m\"value\"\u001b[0m\u001b[0;34m,\u001b[0m \u001b[0;32mNone\u001b[0m\u001b[0;34m)\u001b[0m\u001b[0;34m)\u001b[0m\u001b[0;34m\u001b[0m\u001b[0;34m\u001b[0m\u001b[0m\n\u001b[1;32m    346\u001b[0m             \u001b[0;32mreturn\u001b[0m \u001b[0mresponse\u001b[0m\u001b[0;34m\u001b[0m\u001b[0;34m\u001b[0m\u001b[0m\n",
      "\u001b[0;32m/opt/anaconda3/lib/python3.9/site-packages/selenium/webdriver/remote/errorhandler.py\u001b[0m in \u001b[0;36mcheck_response\u001b[0;34m(self, response)\u001b[0m\n\u001b[1;32m    227\u001b[0m                 \u001b[0malert_text\u001b[0m \u001b[0;34m=\u001b[0m \u001b[0mvalue\u001b[0m\u001b[0;34m[\u001b[0m\u001b[0;34m\"alert\"\u001b[0m\u001b[0;34m]\u001b[0m\u001b[0;34m.\u001b[0m\u001b[0mget\u001b[0m\u001b[0;34m(\u001b[0m\u001b[0;34m\"text\"\u001b[0m\u001b[0;34m)\u001b[0m\u001b[0;34m\u001b[0m\u001b[0;34m\u001b[0m\u001b[0m\n\u001b[1;32m    228\u001b[0m             \u001b[0;32mraise\u001b[0m \u001b[0mexception_class\u001b[0m\u001b[0;34m(\u001b[0m\u001b[0mmessage\u001b[0m\u001b[0;34m,\u001b[0m \u001b[0mscreen\u001b[0m\u001b[0;34m,\u001b[0m \u001b[0mstacktrace\u001b[0m\u001b[0;34m,\u001b[0m \u001b[0malert_text\u001b[0m\u001b[0;34m)\u001b[0m  \u001b[0;31m# type: ignore[call-arg]  # mypy is not smart enough here\u001b[0m\u001b[0;34m\u001b[0m\u001b[0;34m\u001b[0m\u001b[0m\n\u001b[0;32m--> 229\u001b[0;31m         \u001b[0;32mraise\u001b[0m \u001b[0mexception_class\u001b[0m\u001b[0;34m(\u001b[0m\u001b[0mmessage\u001b[0m\u001b[0;34m,\u001b[0m \u001b[0mscreen\u001b[0m\u001b[0;34m,\u001b[0m \u001b[0mstacktrace\u001b[0m\u001b[0;34m)\u001b[0m\u001b[0;34m\u001b[0m\u001b[0;34m\u001b[0m\u001b[0m\n\u001b[0m",
      "\u001b[0;31mNoSuchElementException\u001b[0m: Message: no such element: Unable to locate element: {\"method\":\"xpath\",\"selector\":\"//*[@id=\"app\"]/div[1]/main/div/div/div/div[3]/div/div[3]/div/div[3]/div[1]/strong\"}\n  (Session info: chrome=118.0.5993.117); For documentation on this error, please visit: https://www.selenium.dev/documentation/webdriver/troubleshooting/errors#no-such-element-exception\nStacktrace:\n0   chromedriver                        0x000000010b275e08 chromedriver + 5025288\n1   chromedriver                        0x000000010b26cc23 chromedriver + 4987939\n2   chromedriver                        0x000000010ae0ee67 chromedriver + 409191\n3   chromedriver                        0x000000010ae5e1b9 chromedriver + 733625\n4   chromedriver                        0x000000010ae5e371 chromedriver + 734065\n5   chromedriver                        0x000000010aea4194 chromedriver + 1020308\n6   chromedriver                        0x000000010ae8550d chromedriver + 894221\n7   chromedriver                        0x000000010aea1571 chromedriver + 1009009\n8   chromedriver                        0x000000010ae852b3 chromedriver + 893619\n9   chromedriver                        0x000000010ae4feb9 chromedriver + 675513\n10  chromedriver                        0x000000010ae510ee chromedriver + 680174\n11  chromedriver                        0x000000010b237819 chromedriver + 4769817\n12  chromedriver                        0x000000010b23c893 chromedriver + 4790419\n13  chromedriver                        0x000000010b24366e chromedriver + 4818542\n14  chromedriver                        0x000000010b23d5bd chromedriver + 4793789\n15  chromedriver                        0x000000010b20f98c chromedriver + 4606348\n16  chromedriver                        0x000000010b25bb78 chromedriver + 4918136\n17  chromedriver                        0x000000010b25bd30 chromedriver + 4918576\n18  chromedriver                        0x000000010b26c85e chromedriver + 4986974\n19  libsystem_pthread.dylib             0x00007ff8064084e1 _pthread_start + 125\n20  libsystem_pthread.dylib             0x00007ff806403f6b thread_start + 15\n"
     ]
    }
   ],
   "source": [
    "driver = webdriver.Chrome()\n",
    "\n",
    "driver.get(\"https://www.casadellibro.com\")\n",
    "\n",
    "sleep(2)\n",
    "\n",
    "#maximizar\n",
    "driver.maximize_window()\n",
    "\n",
    "sleep(2)\n",
    "\n",
    "#aceptar cookies\n",
    "driver.find_element(\"css selector\", \"#onetrust-accept-btn-handler\").click()\n",
    "\n",
    "sleep(2)\n",
    "\n",
    "driver.find_element(\"link text\", 'Ficción').click()\n",
    "\n",
    "sleep(2)\n",
    "\n",
    "libro ={\"titulo\": [],\n",
    "         \"autor\":[], \n",
    "         \"precio\":[], \n",
    "         \"editorial\":[],\n",
    "         \"idioma\":[], \n",
    "         \"paginas\":[]}\n",
    "\n",
    "sleep(2)\n",
    "\n",
    "#iterar por productos 1 al 5\n",
    "#for i in range(1,6):\n",
    "#driver.find_element(\"xpath\", '//*[@id=\"buscadorNF\"]/div[3]/div/div[3]/div[1]/a/div/img').click()\n",
    "driver.find_element(\"xpath\", '//*[@id=\"buscadorNF\"]/div[3]/div/div[3]/div[1]/a/div/img').click()\n",
    "\n",
    "#driver.find_element(f\"xpath\", '//*[@id=\"buscadorNF\"]/div[3]/div/div[3]/div[{1}]/a/div/img').click()\n",
    "                                \n",
    "sleep(2)\n",
    "\n",
    "libro [\"titulo\"].append(driver.find_element(\"xpath\",'//*[@id=\"app\"]/div[1]/main/div/div/div/div[3]/div/div[2]/div/h1').text)\n",
    "libro [\"autor\"].append(driver.find_element(\"xpath\",'//*[@id=\"app\"]/div[1]/main/div/div/div/div[3]/div/div[2]/div/div[2]/div/a/span[1]').text)\n",
    "libro [\"precio\"].append(driver.find_element(\"xpath\",'//*[@id=\"app\"]/div[1]/main/div/div/div/div[3]/div/div[3]/div/div[3]/div[1]/strong').text)\n",
    "libro [\"editorial\"].append(driver.find_element(\"xpath\",'//*[@id=\"app\"]/div[1]/main/div/div/div/div[3]/div/div[2]/div/div[4]/div[1]/span[1]').text)\n",
    "libro [\"idioma\"].append(driver.find_element(\"xpath\",'//*[@id=\"app\"]/div[1]/main/div/div/div/div[7]/div/div[2]/div/div[3]/div[2]/span').text)\n",
    "libro [\"paginas\"].append(driver.find_element(\"xpath\",'//*[@id=\"app\"]/div[1]/main/div/div/div/div[7]/div/div[2]/div/div[1]/div[2]/span').text)\n",
    "\n",
    "sleep(2)\n",
    "\n",
    "driver.back()\n",
    "\n",
    "libro\n"
   ]
  }
 ],
 "metadata": {
  "kernelspec": {
   "display_name": "base",
   "language": "python",
   "name": "python3"
  },
  "language_info": {
   "codemirror_mode": {
    "name": "ipython",
    "version": 3
   },
   "file_extension": ".py",
   "mimetype": "text/x-python",
   "name": "python",
   "nbconvert_exporter": "python",
   "pygments_lexer": "ipython3",
   "version": "3.9.7"
  }
 },
 "nbformat": 4,
 "nbformat_minor": 2
}
